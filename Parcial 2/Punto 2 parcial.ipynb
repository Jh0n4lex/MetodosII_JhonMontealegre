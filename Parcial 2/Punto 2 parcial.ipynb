{
 "cells": [
  {
   "cell_type": "code",
   "execution_count": 1,
   "id": "c55b717c",
   "metadata": {},
   "outputs": [],
   "source": [
    "import numpy as np\n",
    "import matplotlib.pyplot as plt\n",
    "from scipy.integrate import odeint"
   ]
  },
  {
   "cell_type": "code",
   "execution_count": 2,
   "id": "11c49f50",
   "metadata": {},
   "outputs": [],
   "source": [
    "def System(r,t,a=0.5,b=0.3):\n",
    "    \n",
    "    x,vx,ax = r\n",
    "    \n",
    "    dxdt = -a*x\n",
    "    dvxdt = a*x-b*vx\n",
    "    daxdt = b*vx\n",
    "    \n",
    "    return np.array([dxdt,dvxdt,daxdt])"
   ]
  },
  {
   "cell_type": "code",
   "execution_count": 3,
   "id": "28a51bbc",
   "metadata": {},
   "outputs": [],
   "source": [
    "t = np.linspace(0,10,50)\n",
    "r0 = np.array([500.,0.,0.])"
   ]
  },
  {
   "cell_type": "code",
   "execution_count": 4,
   "id": "e0401071",
   "metadata": {},
   "outputs": [],
   "source": [
    "sol = odeint(System, r0, t)"
   ]
  },
  {
   "cell_type": "code",
   "execution_count": 5,
   "id": "17abd434",
   "metadata": {},
   "outputs": [
    {
     "data": {
      "text/plain": [
       "<matplotlib.collections.PathCollection at 0x1dd36523410>"
      ]
     },
     "execution_count": 5,
     "metadata": {},
     "output_type": "execute_result"
    },
    {
     "data": {
      "image/png": "[encoded data removed]",
      "text/plain": [
       "<Figure size 640x480 with 1 Axes>"
      ]
     },
     "metadata": {},
     "output_type": "display_data"
    }
   ],
   "source": [
    "plt.scatter(sol[:,0],sol[:,1],marker='.')"
   ]
  },
  {
   "cell_type": "code",
   "execution_count": 6,
   "id": "2879f098",
   "metadata": {},
   "outputs": [],
   "source": [
    "def Increment(f,r,t,h):\n",
    "    \n",
    "    state1 = np.array([r[0],r[1],r[2]])\n",
    "    K1 = f(state1,t)\n",
    "    \n",
    "    state2 = np.array([r[0]+0.5*h*K1[0],r[1]+0.5*h*K1[1], r[2]+0.5*h*K1[2]])\n",
    "    K2 = f(state2,t+0.5*h)\n",
    "    \n",
    "    state3 = np.array([r[0]+0.5*h*K2[0],r[1]+0.5*h*K2[1], r[2]+0.5*h*K2[2]])\n",
    "    K3 = f(state3,t+0.5*h)\n",
    "    \n",
    "    state4 = np.array([r[0]+h*K3[0],r[1]+h*K3[1],r[2]+h*K3[2]])\n",
    "    K4 = f(state4, t+h)\n",
    "    \n",
    "    Deltaf = h*(K1+2*K2+2*K3+K4)/6\n",
    "    \n",
    "    return r+Deltaf"
   ]
  },
  {
   "cell_type": "markdown",
   "id": "8e7cc18d",
   "metadata": {},
   "source": [
    "def Adaptativo(f,x0,t):\n",
    "    \n",
    "    h = t[1] - t[0]\n",
    "    \n",
    "    tf = t[-1]\n",
    "    t = t[0]\n",
    "    \n",
    "    r = r0\n",
    "    \n",
    "    Time = np.array([t])\n",
    "    Vector = r\n",
    "    \n",
    "    Steps = np.array([h])\n",
    "    \n",
    "    while t < tf:\n",
    "        \n",
    "        Delta1 = Increment(f,r,t,h)\n",
    "        Delta2 = Increment(f,r,t,0.5*h)\n",
    "        Delta3 = Increment(f,r,t,2*h)\n",
    "    \n",
    "        Deltas = Delta1.copy()\n",
    "        ht = Delta1.copy()\n",
    "        \n",
    "        for i in range(Delta1.shape[0]):\n",
    "            Deltas[i],ht[i] = CheckStep(Delta1[i],Delta2[i],Delta3[i],h)\n",
    "    \n",
    "    \n",
    "        h = np.mean(ht)\n",
    "        t += h\n",
    "        \n",
    "        r = Increment(f,r,t,h)\n",
    "        \n",
    "        \n",
    "        Steps = np.append(Steps,h )\n",
    "        Time = np.append(Time,t)\n",
    "        Vector = np.vstack((Vector,r))\n",
    "        \n",
    "    return Time,Vector,Steps"
   ]
  },
  {
   "cell_type": "code",
   "execution_count": 7,
   "id": "85946657",
   "metadata": {},
   "outputs": [],
   "source": [
    "import numpy as np\n",
    "import matplotlib.pyplot as plt\n",
    "from scipy.integrate import odeint\n",
    "\n",
    "def System(r, t, a=0.5, b=0.3):\n",
    "    x, vx, ax = r\n",
    "    \n",
    "    dxdt = -a * x\n",
    "    dvxdt = a * x - b * vx\n",
    "    daxdt = b * vx\n",
    "    \n",
    "    return np.array([dxdt, dvxdt, daxdt])\n",
    "\n",
    "t = np.linspace(0, 10, 50)\n",
    "r0 = np.array([500., 0., 0.])\n",
    "\n",
    "sol = odeint(System, r0, t)\n",
    "\n",
    "def Increment(f, r, t, h):\n",
    "    state1 = np.array([r[0], r[1], r[2]])\n",
    "    K1 = f(state1, t)\n",
    "    \n",
    "    state2 = np.array([r[0] + 0.5 * h * K1[0], r[1] + 0.5 * h * K1[1], r[2] + 0.5 * h * K1[2]])\n",
    "    K2 = f(state2, t + 0.5 * h)\n",
    "    \n",
    "    state3 = np.array([r[0] + 0.5 * h * K2[0], r[1] + 0.5 * h * K2[1], r[2] + 0.5 * h * K2[2]])\n",
    "    K3 = f(state3, t + 0.5 * h)\n",
    "    \n",
    "    state4 = np.array([r[0] + h * K3[0], r[1] + h * K3[1], r[2] + h * K3[2]])\n",
    "    K4 = f(state4, t + h)\n",
    "    \n",
    "    Deltaf = h * (K1 + 2 * K2 + 2 * K3 + K4) / 6\n",
    "    \n",
    "    return r + Deltaf\n",
    "\n",
    "def Adaptativo(f, r0, t, e=1e-4):\n",
    "    h = t[1] - t[0]\n",
    "    \n",
    "    tf = t[-1]\n",
    "    t = t[0]\n",
    "    \n",
    "    r = r0\n",
    "    \n",
    "    TimeVector = np.array([t])\n",
    "    Vectors = np.array([r])\n",
    "    Steps = np.array([h])\n",
    "    \n",
    "    while t < tf:\n",
    "        # Avance h desde el punto actual\n",
    "        r1 = Increment(f, r, t, h)\n",
    "        # Avance h desde el siguiente punto\n",
    "        r2 = Increment(f, r1, t + h, h)\n",
    "        # Avance 2h desde el punto actual\n",
    "        rt = Increment(f, r, t, 2 * h)\n",
    "        # El error es comparar los avances\n",
    "        # -> h -> h y -> 2h en sus componentes\n",
    "        error = np.linalg.norm(r2 - rt)\n",
    "        # Si el error es menor que la tolerancia (e) -> avanzo 2h\n",
    "        if error < e:\n",
    "            t += 2 * h\n",
    "            r = rt\n",
    "            TimeVector = np.append(TimeVector, t)\n",
    "            Vectors = np.append(Vectors, [r], axis=0)\n",
    "        # Si el error es muy grande, cambie el paso\n",
    "        # Según Fehlberg\n",
    "        q = 0.85 * (e / error) ** (1 / 4)\n",
    "        h *= q\n",
    "        Steps = np.append(Steps, h)\n",
    "    \n",
    "    return TimeVector, Vectors"
   ]
  },
  {
   "cell_type": "code",
   "execution_count": 8,
   "id": "90f02d01",
   "metadata": {},
   "outputs": [],
   "source": [
    "TimeVector, Vectors = Adaptativo(System, r0, t)"
   ]
  },
  {
   "cell_type": "code",
   "execution_count": 9,
   "id": "9d6bdd9c",
   "metadata": {},
   "outputs": [
    {
     "ename": "NameError",
     "evalue": "name 't1' is not defined",
     "output_type": "error",
     "traceback": [
      "\u001b[1;31m---------------------------------------------------------------------------\u001b[0m",
      "\u001b[1;31mNameError\u001b[0m                                 Traceback (most recent call last)",
      "Cell \u001b[1;32mIn[9], line 1\u001b[0m\n\u001b[1;32m----> 1\u001b[0m \u001b[38;5;28mlen\u001b[39m(t1)\n",
      "\u001b[1;31mNameError\u001b[0m: name 't1' is not defined"
     ]
    }
   ],
   "source": [
    "len(t1)"
   ]
  },
  {
   "cell_type": "code",
   "execution_count": null,
   "id": "597e428a",
   "metadata": {},
   "outputs": [],
   "source": [
    "plt.scatter(sol[:,0],sol[:,1],marker='.')\n",
    "plt.scatter(x1[:,0],x1[:,1],marker='.')"
   ]
  },
  {
   "cell_type": "code",
   "execution_count": null,
   "id": "0d610e9d",
   "metadata": {},
   "outputs": [],
   "source": []
  }
 ],
 "metadata": {
  "kernelspec": {
   "display_name": "Python 3 (ipykernel)",
   "language": "python",
   "name": "python3"
  },
  "language_info": {
   "codemirror_mode": {
    "name": "ipython",
    "version": 3
   },
   "file_extension": ".py",
   "mimetype": "text/x-python",
   "name": "python",
   "nbconvert_exporter": "python",
   "pygments_lexer": "ipython3",
   "version": "3.11.5"
  }
 },
 "nbformat": 4,
 "nbformat_minor": 5
}
