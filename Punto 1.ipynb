{
 "cells": [
  {
   "cell_type": "code",
   "execution_count": 1,
   "id": "c55b717c",
   "metadata": {},
   "outputs": [],
   "source": [
    "import numpy as np\n",
    "import matplotlib.pyplot as plt\n",
    "from scipy.integrate import odeint"
   ]
  },
  {
   "cell_type": "code",
   "execution_count": 40,
   "id": "11c49f50",
   "metadata": {},
   "outputs": [],
   "source": [
    "def System(r,t,mu=1.3):\n",
    "    \n",
    "    x,y = r\n",
    "    q\n",
    "    dxdt = 2*x-y\n",
    "    dydt = x+2*y\n",
    "    \n",
    "    return np.array([dxdt,dydt])"
   ]
  },
  {
   "cell_type": "code",
   "execution_count": 47,
   "id": "28a51bbc",
   "metadata": {},
   "outputs": [],
   "source": [
    "t = np.linspace(0,2,100)\n",
    "r0 = np.array([0.1,0.1])"
   ]
  },
  {
   "cell_type": "code",
   "execution_count": 48,
   "id": "e0401071",
   "metadata": {},
   "outputs": [],
   "source": [
    "sol = odeint(System, r0, t, args=(1.3,))"
   ]
  },
  {
   "cell_type": "code",
   "execution_count": 49,
   "id": "17abd434",
   "metadata": {},
   "outputs": [
    {
     "data": {
      "image/png": "[encoded data removed]",
      "text/plain": [
       "<Figure size 432x288 with 1 Axes>"
      ]
     },
     "metadata": {
      "needs_background": "light"
     },
     "output_type": "display_data"
    }
   ],
   "source": [
    "plt.scatter(sol[:,0],sol[:,1],marker='.')\n",
    "plt.savefig(\"figura1.pdf\")"
   ]
  },
  {
   "cell_type": "code",
   "execution_count": 50,
   "id": "2879f098",
   "metadata": {},
   "outputs": [],
   "source": [
    "def Increment(f,r,t,h):\n",
    "    \n",
    "    state1 = np.array([r[0],r[1]])\n",
    "    K1 = f(state1,t)\n",
    "    \n",
    "    state2 = np.array([r[0]+0.5*h*K1[0],r[1]+0.5*h*K1[1]])\n",
    "    K2 = f(state2,t+0.5*h)\n",
    "    \n",
    "    state3 = np.array([r[0]+0.5*h*K2[0],r[1]+0.5*h*K2[1]])\n",
    "    K3 = f(state3,t+0.5*h)\n",
    "    \n",
    "    state4 = np.array([r[0]+h*K3[0],r[1]+h*K3[1]])\n",
    "    K4 = f(state4, t+h)\n",
    "    \n",
    "    Deltaf = h*(K1+2*K2+2*K3+K4)/6\n",
    "    \n",
    "    return r+Deltaf"
   ]
  },
  {
   "cell_type": "code",
   "execution_count": 51,
   "id": "322f08dc",
   "metadata": {},
   "outputs": [],
   "source": [
    "def CheckStep(Delta1,Delta2,Delta3,h,minimo=1e-2,maximo=1e-1):\n",
    "    \n",
    "    tolerancia = 0.001\n",
    "    \n",
    "    Delta1 = np.abs(Delta1)\n",
    "    Delta2 = np.abs(Delta2)\n",
    "    Delta3 = np.abs(Delta3)\n",
    "    \n",
    "    if Delta1 < tolerancia:\n",
    "        h = minimo\n",
    "        dx = Delta1\n",
    "        \n",
    "    else:\n",
    "        \n",
    "        if np.abs((Delta1 - Delta2))/Delta1 > maximo:\n",
    "            h = 0.5*h\n",
    "            dx = Delta2\n",
    "        \n",
    "        elif np.abs((Delta1-Delta3))/Delta1 < minimo:\n",
    "            h = 2*h\n",
    "            dx = Delta3\n",
    "        \n",
    "        else:\n",
    "            dx = Delta1\n",
    "            \n",
    "    return dx,h"
   ]
  },
  {
   "cell_type": "code",
   "execution_count": 52,
   "id": "27498c96",
   "metadata": {},
   "outputs": [],
   "source": [
    "def Adaptativo(f,x0,t):\n",
    "    \n",
    "    h = t[1] - t[0]\n",
    "    \n",
    "    tf = t[-1]\n",
    "    t = t[0]\n",
    "    \n",
    "    r = r0\n",
    "    \n",
    "    Time = np.array([t])\n",
    "    Vector = r\n",
    "    \n",
    "    Steps = np.array([h])\n",
    "    \n",
    "    while t < tf:\n",
    "        \n",
    "        Delta1 = Increment(f,r,t,h)\n",
    "        Delta2 = Increment(f,r,t,0.5*h)\n",
    "        Delta3 = Increment(f,r,t,2*h)\n",
    "    \n",
    "        Deltas = Delta1.copy()\n",
    "        ht = Delta1.copy()\n",
    "        \n",
    "        for i in range(Delta1.shape[0]):\n",
    "            Deltas[i],ht[i] = CheckStep(Delta1[i],Delta2[i],Delta3[i],h)\n",
    "    \n",
    "    \n",
    "        h = np.mean(ht)\n",
    "        t += h\n",
    "        \n",
    "        r = Increment(f,r,t,h)\n",
    "        \n",
    "        \n",
    "        Steps = np.append(Steps,h )\n",
    "        Time = np.append(Time,t)\n",
    "        Vector = np.vstack((Vector,r))\n",
    "        \n",
    "    return Time,Vector,Steps"
   ]
  },
  {
   "cell_type": "code",
   "execution_count": 53,
   "id": "90f02d01",
   "metadata": {},
   "outputs": [],
   "source": [
    "t1,x1,h1 = Adaptativo(System,r0,t)"
   ]
  },
  {
   "cell_type": "code",
   "execution_count": 54,
   "id": "9d6bdd9c",
   "metadata": {},
   "outputs": [
    {
     "data": {
      "text/plain": [
       "152"
      ]
     },
     "execution_count": 54,
     "metadata": {},
     "output_type": "execute_result"
    }
   ],
   "source": [
    "len(t1)"
   ]
  },
  {
   "cell_type": "code",
   "execution_count": 55,
   "id": "597e428a",
   "metadata": {},
   "outputs": [
    {
     "data": {
      "image/png": "[encoded data removed]",
      "text/plain": [
       "<Figure size 432x288 with 1 Axes>"
      ]
     },
     "metadata": {
      "needs_background": "light"
     },
     "output_type": "display_data"
    }
   ],
   "source": [
    "plt.scatter(sol[:,0],sol[:,1],marker='.')\n",
    "plt.scatter(x1[:,0],x1[:,1],marker='.')\n",
    "plt.savefig(\"figura.pdf\")"
   ]
  },
  {
   "cell_type": "markdown",
   "id": "4fb08789",
   "metadata": {},
   "source": [
    "Esta es la matriz de estabilidad del sistema de ecuaciones:\n",
    "\n",
    "$$\n",
    "x^\\prime = 2x-y \\\\\\\\\n",
    "y^\\prime = x+2y\n",
    "$$\n",
    "\n",
    "$$\n",
    "M=\n",
    "\\begin{bmatrix}\n",
    "2 & -1 \\\\\n",
    "1 & 2\n",
    "\\end{bmatrix}\n",
    "$$"
   ]
  },
  {
   "cell_type": "code",
   "execution_count": null,
   "id": "3294acc9",
   "metadata": {},
   "outputs": [],
   "source": []
  }
 ],
 "metadata": {
  "kernelspec": {
   "display_name": "Python 3 (ipykernel)",
   "language": "python",
   "name": "python3"
  },
  "language_info": {
   "codemirror_mode": {
    "name": "ipython",
    "version": 3
   },
   "file_extension": ".py",
   "mimetype": "text/x-python",
   "name": "python",
   "nbconvert_exporter": "python",
   "pygments_lexer": "ipython3",
   "version": "3.9.7"
  }
 },
 "nbformat": 4,
 "nbformat_minor": 5
}
