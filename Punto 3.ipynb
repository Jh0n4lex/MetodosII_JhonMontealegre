{
 "cells": [
  {
   "cell_type": "code",
   "execution_count": 56,
   "id": "c55b717c",
   "metadata": {},
   "outputs": [],
   "source": [
    "import numpy as np\n",
    "import matplotlib.pyplot as plt\n",
    "from mpl_toolkits.mplot3d import Axes3D\n",
    "from scipy.integrate import odeint\n",
    "from matplotlib.animation import FuncAnimation"
   ]
  },
  {
   "cell_type": "code",
   "execution_count": 192,
   "id": "28a51bbc",
   "metadata": {},
   "outputs": [],
   "source": [
    "phi = 0.\n",
    "psi = 0.\n",
    "theta = np.pi/4\n",
    "theta_prima = 0.\n",
    "g = 0.81\n",
    "d = 0.3\n",
    "m = 0.1\n",
    "r = 0.1\n",
    "\n",
    "\n",
    "t=np.linspace(0,8,100)\n",
    "r0 = np.array([phi, psi, theta, theta_prima])\n",
    "\n",
    "I_0 = (0.25 * m * r**2) + (m*d**2)\n",
    "I_z =(0.5 * m * r**2)\n",
    "\n",
    "p_phi = I_z * 400 * np.cos(theta)\n",
    "p_psi = I_z * 400"
   ]
  },
  {
   "cell_type": "code",
   "execution_count": 209,
   "id": "11c49f50",
   "metadata": {},
   "outputs": [],
   "source": [
    "def System(r, t, p_phi, p_psi, dpsidt_val=400):\n",
    "    \n",
    "    phi, psi, theta, theta_prima = r\n",
    "    \n",
    "    dphidt = (p_phi - I_z * dpsidt_val * np.cos(theta)) / (I_0 * np.sin(theta)**2 + I_z * np.cos(theta)**2)\n",
    "    dpsidt = (p_psi / I_z) - (dphidt * np.cos(theta)) \n",
    "    dthetadt = theta_prima\n",
    "    dtheta_primadt = ((dpsidt**2 * (np.sin(theta) * np.cos(theta)) * (I_0 - I_z)) - (dpsidt * dphidt * I_z * np.sin(theta)) + m * g * d * np.sin(theta)) / I_0\n",
    "    \n",
    "    return np.array([dphidt, dpsidt, dthetadt, dtheta_primadt])"
   ]
  },
  {
   "cell_type": "code",
   "execution_count": 210,
   "id": "e0401071",
   "metadata": {},
   "outputs": [],
   "source": [
    "sol = odeint(System, r0, t, args = (p_phi,p_psi,400,))"
   ]
  },
  {
   "cell_type": "code",
   "execution_count": 211,
   "id": "17abd434",
   "metadata": {},
   "outputs": [
    {
     "data": {
      "image/png": "[encoded data removed]",
      "text/plain": [
       "<Figure size 432x288 with 1 Axes>"
      ]
     },
     "metadata": {
      "needs_background": "light"
     },
     "output_type": "display_data"
    }
   ],
   "source": [
    "#plt.scatter(t,sol[:,2],marker='.')\n",
    "#plt.plot(t,sol[:,2])\n",
    "plt.scatter(t,sol[:,0])\n",
    "plt.plot(t,sol[:,0])\n",
    "plt.savefig(\"figura1.pdf\")"
   ]
  },
  {
   "cell_type": "code",
   "execution_count": 196,
   "id": "62a84ebd",
   "metadata": {},
   "outputs": [],
   "source": [
    "xs = np.cos(sol[:,0])\n",
    "ys = np.sin(sol[:,0])"
   ]
  },
  {
   "cell_type": "code",
   "execution_count": 197,
   "id": "8e2707ec",
   "metadata": {},
   "outputs": [
    {
     "data": {
      "image/png": "[encoded data removed]",
      "text/plain": [
       "<Figure size 432x288 with 1 Axes>"
      ]
     },
     "metadata": {
      "needs_background": "light"
     },
     "output_type": "display_data"
    }
   ],
   "source": [
    "plt.scatter(xs,ys)\n",
    "plt.show()"
   ]
  },
  {
   "cell_type": "code",
   "execution_count": null,
   "id": "710d4075",
   "metadata": {},
   "outputs": [],
   "source": []
  },
  {
   "cell_type": "code",
   "execution_count": null,
   "id": "05fdc59c",
   "metadata": {},
   "outputs": [],
   "source": []
  },
  {
   "cell_type": "code",
   "execution_count": null,
   "id": "067dc955",
   "metadata": {},
   "outputs": [],
   "source": []
  }
 ],
 "metadata": {
  "kernelspec": {
   "display_name": "Python 3 (ipykernel)",
   "language": "python",
   "name": "python3"
  },
  "language_info": {
   "codemirror_mode": {
    "name": "ipython",
    "version": 3
   },
   "file_extension": ".py",
   "mimetype": "text/x-python",
   "name": "python",
   "nbconvert_exporter": "python",
   "pygments_lexer": "ipython3",
   "version": "3.9.7"
  }
 },
 "nbformat": 4,
 "nbformat_minor": 5
}
